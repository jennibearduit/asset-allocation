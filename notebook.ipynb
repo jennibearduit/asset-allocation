{
 "cells": [
  {
   "cell_type": "code",
   "execution_count": 54,
   "metadata": {},
   "outputs": [],
   "source": [
    "import pandas as pd\n",
    "import numpy as np\n",
    "import statistics\n",
    "import matplotlib.pyplot as plt\n",
    "import scipy.optimize as opt\n",
    "from scipy.optimize import LinearConstraint\n",
    "from scipy.optimize import minimize\n",
    "import sympy as sp\n",
    "import statistics"
   ]
  },
  {
   "cell_type": "code",
   "execution_count": 55,
   "metadata": {},
   "outputs": [],
   "source": [
    "# Read data file and initial parameters\n",
    "input_file = 'raw_data.csv'\n",
    "df = pd.read_csv(input_file)\n",
    "nrow, ncol = df.shape\n",
    "indexes = df.columns[1:].to_list()"
   ]
  },
  {
   "cell_type": "markdown",
   "metadata": {},
   "source": [
    "**Question 1 :** Calculating Inputs\n",
    "\n",
    "\n",
    "**a)** Monthly and annual average return"
   ]
  },
  {
   "cell_type": "code",
   "execution_count": 56,
   "metadata": {},
   "outputs": [],
   "source": [
    "mar = {} # Monthly Arithmetic Return (Method 1)\n",
    "mar2 = {} # Monthly Arithmetic Return (Method 2)\n",
    "aar = {} # Annual Arithmetic Return (Method 1)\n",
    "aar2 = {} # Annual Arithmetic Return (Method 2)\n",
    "for index in indexes:\n",
    "    mar[index] = df[index].mean()\n",
    "    aar[index] = 12.0 * mar[index] \n",
    "    aar2[index] = df[index].sum() / 10.0\n",
    "    mar2[index] = aar2[index] / 12.0"
   ]
  },
  {
   "cell_type": "markdown",
   "metadata": {},
   "source": [
    "**b)** Monthly and annual standard deviation of return"
   ]
  },
  {
   "cell_type": "code",
   "execution_count": 57,
   "metadata": {},
   "outputs": [
    {
     "name": "stdout",
     "output_type": "stream",
     "text": [
      "   No.     Tbill   Russell   S&P 500     Bonds  MSCI EAFE\n",
      "0    1  0.016623 -0.215680 -0.243516  0.093556  -0.149994\n",
      "1    2  0.010383  0.391684  0.242213  0.047294   0.354134\n",
      "2    3  0.011099  0.167736  0.088834  0.071703   0.179852\n",
      "3    4  0.027751  0.042314  0.032383  0.094253   0.130466\n",
      "4    5  0.045961  0.166387  0.129859  0.054166   0.235844\n",
      "5    6  0.046891 -0.020552  0.039043  0.075608   0.099995\n",
      "6    7  0.017538 -0.379986 -0.454537  0.219410  -0.479549\n",
      "7    8  0.000933  0.266643  0.235816 -0.067258   0.280258\n",
      "8    9  0.001137  0.254547  0.137983  0.061499   0.106051\n",
      "9   10  0.000568 -0.031398  0.011463  0.251856  -0.111989\n"
     ]
    }
   ],
   "source": [
    "msd = {} # Monthly Standard Deviation (Method 1)\n",
    "msd2 = {} # Monthly Standard Deviation (Method 2)\n",
    "asd = {} # Annual Standard Deviation (Method 1)\n",
    "asd2 = {} # Annual Standard Deviation (Method 2)\n",
    "df2 = pd.DataFrame({'No.': range(1,11)})\n",
    "\n",
    "for index in indexes:\n",
    "    msd[index] = df[index].std()\n",
    "    asd[index] = (12.0**0.5) * msd[index] \n",
    "\n",
    "    index_ar = [] # Yearly returns of the index (10 years)\n",
    "    for i in range(10):\n",
    "        start = i * 12 # Index of first month of Year i\n",
    "        end = start + 12 # Index after last month of Year i\n",
    "        index_ar.append(df[index].iloc[start:end].sum())\n",
    "  \n",
    "    df2[index] = pd.DataFrame({index: index_ar})\n",
    "    asd2[index] = statistics.stdev(index_ar)\n",
    "    msd2[index] = asd2[index] / (12.0**0.5)\n",
    "print(df2)\n"
   ]
  },
  {
   "cell_type": "markdown",
   "metadata": {},
   "source": [
    "**c)** Correlation between indexes of risky asset classes"
   ]
  },
  {
   "cell_type": "code",
   "execution_count": 58,
   "metadata": {},
   "outputs": [],
   "source": [
    "corr = df.corr(method='pearson') # Correlation matrix\n",
    "corr = corr.drop(labels=indexes[0], axis=0) # Remove T-bill from x-axis\n",
    "corr = corr.drop(labels=indexes[0], axis=1) # Remove T-bill from y-axis"
   ]
  },
  {
   "cell_type": "code",
   "execution_count": 59,
   "metadata": {},
   "outputs": [],
   "source": [
    "corr2 = df2.corr(method='pearson') # Correlation matrix\n",
    "corr2 = corr2.drop(labels=[indexes[0],'No.'], axis=0) # Remove T-bill from x-axis\n",
    "corr2 = corr2.drop(labels=[indexes[0],'No.'], axis=1) # Remove T-bill from y-axis"
   ]
  },
  {
   "cell_type": "markdown",
   "metadata": {},
   "source": [
    "**Question 2:** Optimal Asset Allocation\n",
    "\n",
    "**a)** Plot efficient frontier and calculate minimum unconstrained portfolio standard deviation"
   ]
  },
  {
   "cell_type": "code",
   "execution_count": 60,
   "metadata": {},
   "outputs": [],
   "source": [
    "cov = corr.copy() # Initialise covariance matrix\n",
    "for i in indexes:\n",
    "    for j in indexes:\n",
    "        if (i == indexes[0] or j == indexes[0]): \n",
    "            continue # Skip T-bill (index 0)\n",
    "        cov[i].loc[j] = corr[i].loc[j] * asd[i] * asd[j]"
   ]
  },
  {
   "cell_type": "code",
   "execution_count": 61,
   "metadata": {},
   "outputs": [],
   "source": [
    "# y axis: [.0001, .0002, ..., .3999, .4000] = [.01%, .02%, ..., 39.99%, 40.00%]\n",
    "y_axis_2a = [x / 1000 for x in range(401)] "
   ]
  },
  {
   "cell_type": "code",
   "execution_count": 62,
   "metadata": {},
   "outputs": [],
   "source": [
    "def get_portfolio_std(w): # Matrix formula of portfolio standard deviation\n",
    "    return (np.matmul(np.matmul(w, cov), np.transpose(w)))**0.5"
   ]
  },
  {
   "cell_type": "code",
   "execution_count": 63,
   "metadata": {},
   "outputs": [],
   "source": [
    "def constraint_weight(w): # Ensure sum of weight is 1\n",
    "    return w.sum() - 1"
   ]
  },
  {
   "cell_type": "code",
   "execution_count": 64,
   "metadata": {},
   "outputs": [],
   "source": [
    "target = 0 # Initialise target to be used later\n",
    "def constraint_mean(w): # Ensure mean = target \n",
    "    w1, w2, w3, w4 = w\n",
    "    mean = w1*aar[indexes[1]] + w2*aar[indexes[2]] + w3*aar[indexes[3]] + w4*aar[indexes[4]]\n",
    "    return mean - target"
   ]
  },
  {
   "cell_type": "code",
   "execution_count": 65,
   "metadata": {},
   "outputs": [],
   "source": [
    "# Initialise parameters required for solver\n",
    "w0 = [.25, .25, .25, .25] \n",
    "constraints_2a = [ \n",
    "    {'type': 'eq', 'fun': constraint_weight},\n",
    "    {'type': 'eq', 'fun': constraint_mean}\n",
    "]"
   ]
  },
  {
   "cell_type": "code",
   "execution_count": 66,
   "metadata": {},
   "outputs": [],
   "source": [
    "weights_2a = []\n",
    "x_axis_2a = []\n",
    "for i in range(len(y_axis_2a)):\n",
    "    target = y_axis_2a[i] \n",
    "    solution = minimize(get_portfolio_std, x0=w0, constraints=constraints_2a).x\n",
    "    x_axis_2a.append(get_portfolio_std(solution))\n",
    "    weights_2a.append(solution)"
   ]
  },
  {
   "cell_type": "code",
   "execution_count": 67,
   "metadata": {},
   "outputs": [
    {
     "data": {
      "text/plain": [
       "Text(0, 0.5, 'Portfolio Return')"
      ]
     },
     "execution_count": 67,
     "metadata": {},
     "output_type": "execute_result"
    },
    {
     "data": {
      "image/png": "[encoded data removed]",
      "text/plain": [
       "<Figure size 432x288 with 1 Axes>"
      ]
     },
     "metadata": {
      "needs_background": "light"
     },
     "output_type": "display_data"
    }
   ],
   "source": [
    "# Plot (Risk vs Return) scatter plot\n",
    "plt.scatter(x_axis_2a, y_axis_2a, marker=\"o\", s=1)\n",
    "plt.title(\"Portfolio Risk vs Portfolio Return\")\n",
    "plt.xlabel(\"Portfolio Risk (Standard Deviation)\")\n",
    "plt.ylabel(\"Portfolio Return\")"
   ]
  },
  {
   "cell_type": "code",
   "execution_count": 68,
   "metadata": {},
   "outputs": [],
   "source": [
    "w0 = [.25, .25, .25, .25] "
   ]
  },
  {
   "cell_type": "code",
   "execution_count": 72,
   "metadata": {},
   "outputs": [],
   "source": [
    "#  Minimum unconstrained portfolio standard deviation\n",
    "target = 0\n",
    "weights_2a = minimize(get_portfolio_std, x0=w0, constraints=constraints_2a[:1]).x # GMV weights\n",
    "min_std_2a = get_portfolio_std(weights_2a) # GMV std\n",
    "aar_2a = constraint_mean(weights_2a) # GMV return = 4.14%\n",
    "min_std_index_2a = min([i for i in range(401) if y_axis_2a[i] > aar_2a]) # Closest min index is 42"
   ]
  },
  {
   "cell_type": "code",
   "execution_count": 73,
   "metadata": {},
   "outputs": [
    {
     "data": {
      "text/plain": [
       "Text(0, 0.5, 'Portfolio Return')"
      ]
     },
     "execution_count": 73,
     "metadata": {},
     "output_type": "execute_result"
    },
    {
     "data": {
      "image/png": "[encoded data removed]",
      "text/plain": [
       "<Figure size 432x288 with 1 Axes>"
      ]
     },
     "metadata": {
      "needs_background": "light"
     },
     "output_type": "display_data"
    }
   ],
   "source": [
    "# Plot efficient frontier\n",
    "plt.scatter(x_axis_2a[min_std_index_2a:], y_axis_2a[min_std_index_2a:], marker=\"o\", s=1)\n",
    "plt.title(\"Efficient Frontier\")\n",
    "plt.xlabel(\"Portfolio Risk (Standard Deviation)\")\n",
    "plt.ylabel(\"Portfolio Return\")"
   ]
  },
  {
   "cell_type": "code",
   "execution_count": 74,
   "metadata": {},
   "outputs": [],
   "source": [
    "rf = .018\n",
    "def get_negative_sharpe_ratio(w):\n",
    "    w1, w2, w3, w4 = w\n",
    "    mean = w1*aar[indexes[1]] + w2*aar[indexes[2]] + w3*aar[indexes[3]] + w4*aar[indexes[4]]\n",
    "    std = (np.matmul(np.matmul(w, cov), np.transpose(w)))**0.5\n",
    "    return  -1 * (mean - .018) / std"
   ]
  },
  {
   "cell_type": "code",
   "execution_count": 75,
   "metadata": {},
   "outputs": [],
   "source": [
    "constraints_2c = [\n",
    "    {'type': 'eq', 'fun': constraint_weight} # Weights sum up to 1\n",
    "]"
   ]
  },
  {
   "cell_type": "code",
   "execution_count": 76,
   "metadata": {},
   "outputs": [],
   "source": [
    "# Compute point with maximum sharpe ratio\n",
    "sol = minimize(get_negative_sharpe_ratio, x0=w0, constraints=constraints_2c)\n",
    "max_sr_2c = -1 * sol.fun\n",
    "y_max_sr_2c = constraint_mean(sol.x)\n",
    "x_max_sr_2c = get_portfolio_std(sol.x)\n",
    "w_max_sr_2c = sol.x"
   ]
  },
  {
   "cell_type": "code",
   "execution_count": 77,
   "metadata": {},
   "outputs": [],
   "source": [
    "# Parameters to plot tangency line\n",
    "rf = .018\n",
    "x_axis_2c = [i/100.0 for i in range(0,48)] \n",
    "y_axis_2c = [((i/100.0) * max_sr_2c + rf) for i in range(0,48)]"
   ]
  },
  {
   "cell_type": "code",
   "execution_count": 78,
   "metadata": {},
   "outputs": [
    {
     "data": {
      "text/plain": [
       "Text(0, 0.5, 'Portfolio Return')"
      ]
     },
     "execution_count": 78,
     "metadata": {},
     "output_type": "execute_result"
    },
    {
     "data": {
      "image/png": "[encoded data removed]",
      "text/plain": [
       "<Figure size 432x288 with 1 Axes>"
      ]
     },
     "metadata": {
      "needs_background": "light"
     },
     "output_type": "display_data"
    }
   ],
   "source": [
    "plt.figure()\n",
    "plt.plot(x_axis_2c, y_axis_2c, '-y')\n",
    "plt.scatter(x_axis_2a[min_std_index_2a:], y_axis_2a[min_std_index_2a:], marker=\"o\", s=1)\n",
    "plt.plot(x_max_sr_2c, y_max_sr_2c, marker=\"x\")\n",
    "plt.title(\"Efficient Frontier\")\n",
    "plt.xlabel(\"Portfolio Risk (Standard Deviation)\")\n",
    "plt.ylabel(\"Portfolio Return\")"
   ]
  },
  {
   "cell_type": "markdown",
   "metadata": {},
   "source": [
    "**Question 3:** Optimal Capital Allocation"
   ]
  },
  {
   "cell_type": "code",
   "execution_count": 79,
   "metadata": {},
   "outputs": [],
   "source": [
    "# Dollar investment in each asset class\n",
    "investor_A = [0.1] # Alex\n",
    "investor_B = [0.5] # Roberto\n",
    "investor_C = [0.9] # Cathy\n",
    "for w in w_max_sr_2c:\n",
    "    investor_A.append(w*.10)\n",
    "    investor_B.append(w*.50)\n",
    "    investor_C.append(w*.90)"
   ]
  }
 ],
 "metadata": {
  "kernelspec": {
   "display_name": "Python 3.8.8 ('base')",
   "language": "python",
   "name": "python3"
  },
  "language_info": {
   "codemirror_mode": {
    "name": "ipython",
    "version": 3
   },
   "file_extension": ".py",
   "mimetype": "text/x-python",
   "name": "python",
   "nbconvert_exporter": "python",
   "pygments_lexer": "ipython3",
   "version": "3.8.8"
  },
  "orig_nbformat": 4,
  "vscode": {
   "interpreter": {
    "hash": "78d178f77aa2234760f0004d20edde8d97d9d6aae15b3a03389e75a39bac3a7d"
   }
  }
 },
 "nbformat": 4,
 "nbformat_minor": 2
}
